{
 "cells": [
  {
   "cell_type": "markdown",
   "metadata": {},
   "source": [
    "### MNIST DNN with Estimators & Layers\n",
    "\n",
    "In this example, we will use a deep neural network to classify the MNIST dataset. This code is very similar to the 5th example (deep_neural_network_mnist_layers), however instead of manually managing the session and TensorBoard, we let Estimators handle this for us."
   ]
  },
  {
   "cell_type": "code",
   "execution_count": 18,
   "metadata": {
    "collapsed": true
   },
   "outputs": [],
   "source": [
    "from __future__ import absolute_import\n",
    "from __future__ import division\n",
    "from __future__ import print_function\n",
    "\n",
    "import math\n",
    "import numpy as np\n",
    "import os\n",
    "\n",
    "import tensorflow as tf\n",
    "from tensorflow.examples.tutorials.mnist import input_data"
   ]
  },
  {
   "cell_type": "markdown",
   "metadata": {},
   "source": [
    "When using Estimators, we do not manage the TensorFlow session directly. Instead, we skip straight to defining our hyperparameters."
   ]
  },
  {
   "cell_type": "code",
   "execution_count": 19,
   "metadata": {
    "collapsed": true
   },
   "outputs": [],
   "source": [
    "# Number of neurons in each hidden layer\n",
    "HIDDEN1_SIZE = 500\n",
    "HIDDEN2_SIZE = 250\n",
    "\n",
    "NUM_CLASSES = 10  # 10 digits 0-9\n",
    "NUM_PIXELS = 28 * 28  # dataset size.\n",
    "\n",
    "# Experiment with the number of training steps to see the effect.\n",
    "TRAIN_STEPS = 2000\n",
    "BATCH_SIZE = 100\n",
    "\n",
    "# We're using a different learning rate than the previous notebook, and a new optimizer\n",
    "LEARNING_RATE = 0.001"
   ]
  },
  {
   "cell_type": "code",
   "execution_count": 64,
   "metadata": {},
   "outputs": [],
   "source": [
    "# Define our model\n",
    "def model_fn(features, labels, mode):\n",
    "    \n",
    "    # First we'll create 2 fully-connected layers, with ReLU activations.\n",
    "    fc1 = tf.layers.dense(features['x'], HIDDEN1_SIZE, activation=tf.nn.relu, name=\"fc1\")\n",
    "    fc2 = tf.layers.dense(fc1, HIDDEN2_SIZE, activation=tf.nn.relu, name=\"fc2\")\n",
    "\n",
    "    # Next, we'll apply Dropout to the second layer\n",
    "    # This can help prevent overfitting, and I've added it here\n",
    "    # for illustration. You can comment this out, if you like.\n",
    "    dropped = tf.nn.dropout(fc2, keep_prob=0.9, name=\"dropout1\")\n",
    "\n",
    "    # Finally, we'll calculate logists. This will be\n",
    "    # the input to our Softmax function. Notice we \n",
    "    # don't apply an activation at this layer.\n",
    "    # If you've commented out the dropout layer,\n",
    "    # switch the input here to 'fc2'.\n",
    "    y = tf.layers.dense(dropped, NUM_CLASSES, name=\"output\")\n",
    "    \n",
    "    if mode == tf.estimator.ModeKeys.PREDICT:\n",
    "        preds = {\n",
    "            'class': tf.argmax(y, axis=1),\n",
    "            'prediction': y\n",
    "        }\n",
    "        return tf.estimator.EstimatorSpec(mode=mode,\n",
    "                                          predictions=preds)\n",
    "    \n",
    "    # Compute the loss.\n",
    "    loss = tf.losses.softmax_cross_entropy(\n",
    "        onehot_labels=labels, logits=y)\n",
    "    \n",
    "    tf.summary.scalar('loss', loss)\n",
    "    \n",
    "    learning_rate = LEARNING_RATE\n",
    "    # Alternate learning rate calculation\n",
    "    # learning_rate = tf.train.exponential_decay(\n",
    "    # LEARNING_RATE, tf.train.get_global_step(), 100000, 0.96)\n",
    "    \n",
    "    # Define the optimizer\n",
    "    optimizer = tf.train.GradientDescentOptimizer(learning_rate=learning_rate)\n",
    "    train_op = optimizer.minimize(loss, global_step=tf.train.get_global_step())\n",
    "\n",
    "    # Return an estimator spec that encapsulates your model.\n",
    "    return tf.estimator.EstimatorSpec(mode=mode,\n",
    "                                      loss=loss,\n",
    "                                      train_op=train_op)\n"
   ]
  },
  {
   "cell_type": "code",
   "execution_count": 65,
   "metadata": {},
   "outputs": [
    {
     "name": "stdout",
     "output_type": "stream",
     "text": [
      "Extracting /tmp/data/train-images-idx3-ubyte.gz\n",
      "Extracting /tmp/data/train-labels-idx1-ubyte.gz\n",
      "Extracting /tmp/data/t10k-images-idx3-ubyte.gz\n",
      "Extracting /tmp/data/t10k-labels-idx1-ubyte.gz\n"
     ]
    }
   ],
   "source": [
    "# Number of samples for prediction.\n",
    "NUM_PRED_SAMPLES = 5\n",
    "\n",
    "# Define our data input function.\n",
    "mnist = input_data.read_data_sets(\"/tmp/data\", one_hot=True)\n",
    "\n",
    "x_train = np.array(mnist.train.images, dtype=np.float32)\n",
    "y_train = np.array(mnist.train.labels, dtype=np.int32)\n",
    "\n",
    "x_test = np.array(mnist.test.images, dtype=np.float32)\n",
    "y_test = np.array(mnist.test.labels, dtype=np.int32)\n",
    "\n",
    "mnist_train_input = tf.estimator.inputs.numpy_input_fn({'x': x_train},\n",
    "                                                       y_train,\n",
    "                                                       shuffle=True,\n",
    "                                                       num_epochs=None)\n",
    "\n",
    "mnist_test_input = tf.estimator.inputs.numpy_input_fn({'x': x_test},\n",
    "                                                      y_test,\n",
    "                                                      shuffle=True,\n",
    "                                                      num_epochs=1)\n",
    "\n",
    "mnist_sample_pred_input = tf.estimator.inputs.numpy_input_fn({'x': x_test[:NUM_PRED_SAMPLES]},\n",
    "                                                      y_test[:NUM_PRED_SAMPLES],\n",
    "                                                      shuffle=False,\n",
    "                                                      num_epochs=1)"
   ]
  },
  {
   "cell_type": "code",
   "execution_count": 66,
   "metadata": {},
   "outputs": [
    {
     "name": "stdout",
     "output_type": "stream",
     "text": [
      "INFO:tensorflow:Using default config.\n",
      "WARNING:tensorflow:Using temporary folder as model directory: /tmp/tmpmdoqttq7\n",
      "INFO:tensorflow:Using config: {'_save_checkpoints_steps': None, '_save_checkpoints_secs': 600, '_session_config': None, '_keep_checkpoint_max': 5, '_model_dir': '/tmp/tmpmdoqttq7', '_keep_checkpoint_every_n_hours': 10000, '_save_summary_steps': 100, '_tf_random_seed': 1}\n"
     ]
    }
   ],
   "source": [
    "# Define the run configuration.\n",
    "estimator = tf.estimator.Estimator(model_fn=model_fn)"
   ]
  },
  {
   "cell_type": "code",
   "execution_count": 67,
   "metadata": {
    "scrolled": true
   },
   "outputs": [
    {
     "name": "stdout",
     "output_type": "stream",
     "text": [
      "INFO:tensorflow:Create CheckpointSaverHook.\n",
      "INFO:tensorflow:Saving checkpoints for 1 into /tmp/tmpmdoqttq7/model.ckpt.\n",
      "INFO:tensorflow:step = 1, loss = 2.31158\n",
      "INFO:tensorflow:global_step/sec: 164.201\n",
      "INFO:tensorflow:step = 101, loss = 2.24726 (0.610 sec)\n",
      "INFO:tensorflow:global_step/sec: 186.516\n",
      "INFO:tensorflow:step = 201, loss = 2.16199 (0.536 sec)\n",
      "INFO:tensorflow:global_step/sec: 186.107\n",
      "INFO:tensorflow:step = 301, loss = 2.07692 (0.537 sec)\n",
      "INFO:tensorflow:global_step/sec: 196.359\n",
      "INFO:tensorflow:step = 401, loss = 1.92831 (0.509 sec)\n",
      "INFO:tensorflow:global_step/sec: 193.51\n",
      "INFO:tensorflow:step = 501, loss = 1.93974 (0.517 sec)\n",
      "INFO:tensorflow:global_step/sec: 198.303\n",
      "INFO:tensorflow:step = 601, loss = 1.85007 (0.504 sec)\n",
      "INFO:tensorflow:global_step/sec: 197.432\n",
      "INFO:tensorflow:step = 701, loss = 1.78981 (0.507 sec)\n",
      "INFO:tensorflow:global_step/sec: 200.727\n",
      "INFO:tensorflow:step = 801, loss = 1.63758 (0.498 sec)\n",
      "INFO:tensorflow:global_step/sec: 194.234\n",
      "INFO:tensorflow:step = 901, loss = 1.59239 (0.515 sec)\n",
      "INFO:tensorflow:global_step/sec: 188.203\n",
      "INFO:tensorflow:step = 1001, loss = 1.61411 (0.531 sec)\n",
      "INFO:tensorflow:global_step/sec: 186.367\n",
      "INFO:tensorflow:step = 1101, loss = 1.49256 (0.537 sec)\n",
      "INFO:tensorflow:global_step/sec: 198.074\n",
      "INFO:tensorflow:step = 1201, loss = 1.39537 (0.505 sec)\n",
      "INFO:tensorflow:global_step/sec: 193.32\n",
      "INFO:tensorflow:step = 1301, loss = 1.37244 (0.517 sec)\n",
      "INFO:tensorflow:global_step/sec: 186.824\n",
      "INFO:tensorflow:step = 1401, loss = 1.23772 (0.535 sec)\n",
      "INFO:tensorflow:global_step/sec: 189.948\n",
      "INFO:tensorflow:step = 1501, loss = 1.21443 (0.526 sec)\n",
      "INFO:tensorflow:global_step/sec: 187.404\n",
      "INFO:tensorflow:step = 1601, loss = 1.0998 (0.534 sec)\n",
      "INFO:tensorflow:global_step/sec: 188.135\n",
      "INFO:tensorflow:step = 1701, loss = 1.12857 (0.531 sec)\n",
      "INFO:tensorflow:global_step/sec: 190.119\n",
      "INFO:tensorflow:step = 1801, loss = 0.987816 (0.526 sec)\n",
      "INFO:tensorflow:global_step/sec: 190.978\n",
      "INFO:tensorflow:step = 1901, loss = 1.07697 (0.524 sec)\n",
      "INFO:tensorflow:Saving checkpoints for 2000 into /tmp/tmpmdoqttq7/model.ckpt.\n",
      "INFO:tensorflow:Loss for final step: 0.996675.\n"
     ]
    },
    {
     "data": {
      "text/plain": [
       "<tensorflow.python.estimator.estimator.Estimator at 0x7ff388029b38>"
      ]
     },
     "execution_count": 67,
     "metadata": {},
     "output_type": "execute_result"
    }
   ],
   "source": [
    "# Train the estimator using our input function.\n",
    "estimator.train(input_fn=mnist_train_input, steps=TRAIN_STEPS)"
   ]
  },
  {
   "cell_type": "code",
   "execution_count": 68,
   "metadata": {},
   "outputs": [
    {
     "name": "stdout",
     "output_type": "stream",
     "text": [
      "INFO:tensorflow:Starting evaluation at 2017-08-04-22:01:47\n",
      "INFO:tensorflow:Restoring parameters from /tmp/tmpmdoqttq7/model.ckpt-2000\n",
      "INFO:tensorflow:Finished evaluation at 2017-08-04-22:01:47\n",
      "INFO:tensorflow:Saving dict for global step 2000: global_step = 2000, loss = 0.96981\n",
      "{'global_step': 2000, 'loss': 0.96981019}\n"
     ]
    }
   ],
   "source": [
    "# Evaluate the estimator using our input function.\n",
    "evaluation = estimator.evaluate(input_fn=mnist_test_input)\n",
    "print(evaluation)"
   ]
  },
  {
   "cell_type": "code",
   "execution_count": 75,
   "metadata": {},
   "outputs": [
    {
     "name": "stdout",
     "output_type": "stream",
     "text": [
      "INFO:tensorflow:Restoring parameters from /tmp/tmpmdoqttq7/model.ckpt-2000\n",
      "-------------- Test 0 -------------\n",
      "Prediction: 7\n",
      "Label: 7\n",
      "-------------- Test 1 -------------\n",
      "Prediction: 2\n",
      "Label: 2\n",
      "-------------- Test 2 -------------\n",
      "Prediction: 1\n",
      "Label: 1\n",
      "-------------- Test 3 -------------\n",
      "Prediction: 0\n",
      "Label: 0\n",
      "-------------- Test 4 -------------\n",
      "Prediction: 4\n",
      "Label: 4\n"
     ]
    }
   ],
   "source": [
    "# Prediction\n",
    "preds = estimator.predict(input_fn=mnist_sample_pred_input)\n",
    "i = 0\n",
    "for p in preds:\n",
    "    print('-------------- Test %d -------------' % i)\n",
    "    print('Prediction:', p['class'])\n",
    "    print('Label:', np.argmax(y_test[i]))\n",
    "    i += 1"
   ]
  }
 ],
 "metadata": {
  "kernelspec": {
   "display_name": "Python 2",
   "language": "python",
   "name": "python2"
  },
  "language_info": {
   "codemirror_mode": {
    "name": "ipython",
    "version": 3
   },
   "file_extension": ".py",
   "mimetype": "text/x-python",
   "name": "python",
   "nbconvert_exporter": "python",
   "pygments_lexer": "ipython3",
   "version": "3.4.3"
  }
 },
 "nbformat": 4,
 "nbformat_minor": 2
}

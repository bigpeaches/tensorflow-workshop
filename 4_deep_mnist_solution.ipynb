{
 "cells": [
  {
   "cell_type": "markdown",
   "metadata": {},
   "source": [
    "Here's the modified code you can copy/paste into the previous notebook."
   ]
  },
  {
   "cell_type": "code",
   "execution_count": null,
   "metadata": {
    "collapsed": false
   },
   "outputs": [],
   "source": [
    "HIDDEN2_UNITS = 64\n",
    "\n",
    "weights1 = weight_variable(NUM_PIXELS, HIDDEN1_UNITS)\n",
    "biases1 = bias_variable(HIDDEN1_UNITS)\n",
    "hidden1 = tf.nn.relu(tf.matmul(x, weights1) + biases1)\n",
    "\n",
    "weights2 = weight_variable(HIDDEN1_UNITS, HIDDEN2_UNITS)\n",
    "biases2 = bias_variable(HIDDEN2_UNITS)\n",
    "hidden2 = tf.nn.relu(tf.matmul(hidden1, weights2) + biases2)\n",
    "\n",
    "weights3 = weight_variable(HIDDEN2_UNITS, NUM_CLASSES)\n",
    "biases3 = bias_variable(NUM_CLASSES)\n",
    "\n",
    "y = tf.matmul(hidden2, weights3) + biases3"
   ]
  }
 ],
 "metadata": {
  "kernelspec": {
   "display_name": "Python 2",
   "language": "python",
   "name": "python2"
  },
  "language_info": {
   "codemirror_mode": {
    "name": "ipython",
    "version": 2
   },
   "file_extension": ".py",
   "mimetype": "text/x-python",
   "name": "python",
   "nbconvert_exporter": "python",
   "pygments_lexer": "ipython2",
   "version": "2.7.10"
  }
 },
 "nbformat": 4,
 "nbformat_minor": 0
}

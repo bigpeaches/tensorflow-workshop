{
 "cells": [
  {
   "cell_type": "markdown",
   "metadata": {},
   "source": [
    "Started hacking on this - warning crappy code ahead! Based on https://github.com/mari-linhares/tensorflow-workshop/blob/master/code_samples/RNN/colorbot/colorbot_including_solutions.ipynb"
   ]
  },
  {
   "cell_type": "code",
   "execution_count": 1,
   "metadata": {
    "collapsed": true
   },
   "outputs": [],
   "source": [
    "from __future__ import absolute_import\n",
    "from __future__ import division\n",
    "from __future__ import print_function\n",
    "\n",
    "import tensorflow as tf\n",
    "from tensorflow.contrib.keras.python import keras\n",
    "from tensorflow.contrib.keras.python.keras import preprocessing\n",
    "from tensorflow.contrib.keras.python.keras.preprocessing.text import Tokenizer\n",
    "from tensorflow.contrib.keras.python.keras.models import Sequential\n",
    "from tensorflow.contrib.keras.python.keras.layers import Dense, Dropout, LSTM, Reshape\n",
    "from tensorflow.contrib.keras.python.keras.optimizers import Adam\n",
    "\n",
    "import numpy as np\n",
    "import pandas"
   ]
  },
  {
   "cell_type": "code",
   "execution_count": 2,
   "metadata": {
    "collapsed": false
   },
   "outputs": [
    {
     "name": "stdout",
     "output_type": "stream",
     "text": [
      "1.2.1\n"
     ]
    }
   ],
   "source": [
    "print (tf.__version__) # Must be v1.2+"
   ]
  },
  {
   "cell_type": "code",
   "execution_count": 3,
   "metadata": {
    "collapsed": false
   },
   "outputs": [],
   "source": [
    "#training_data = \n",
    "#testing_data = \n",
    "frames = [pandas.read_csv('colors-train.csv'), pandas.read_csv('colors-test.csv')]\n",
    "training_data = pandas.concat(frames)"
   ]
  },
  {
   "cell_type": "code",
   "execution_count": 4,
   "metadata": {
    "collapsed": true
   },
   "outputs": [],
   "source": [
    "x_train = list(training_data[\"name\"])\n",
    "#x_test = list(testing_data[\"name\"])"
   ]
  },
  {
   "cell_type": "code",
   "execution_count": 5,
   "metadata": {
    "collapsed": false
   },
   "outputs": [],
   "source": [
    "t = Tokenizer(char_level=True)\n",
    "t.fit_on_texts(x_train)\n",
    "x_train_tokenized = t.texts_to_sequences(x_train)"
   ]
  },
  {
   "cell_type": "code",
   "execution_count": 6,
   "metadata": {
    "collapsed": false
   },
   "outputs": [],
   "source": [
    "maxlen=50\n",
    "x_train2 = preprocessing.sequence.pad_sequences(x_train_tokenized, maxlen=maxlen)"
   ]
  },
  {
   "cell_type": "code",
   "execution_count": 7,
   "metadata": {
    "collapsed": true
   },
   "outputs": [],
   "source": [
    "def normalize_color(value):\n",
    "    return value / 255.0"
   ]
  },
  {
   "cell_type": "code",
   "execution_count": 8,
   "metadata": {
    "collapsed": false
   },
   "outputs": [
    {
     "name": "stdout",
     "output_type": "stream",
     "text": [
      "_________________________________________________________________\n",
      "Layer (type)                 Output Shape              Param #   \n",
      "=================================================================\n",
      "reshape_1 (Reshape)          (None, 1, 50)             0         \n",
      "_________________________________________________________________\n",
      "lstm_1 (LSTM)                (None, None, 256)         314368    \n",
      "_________________________________________________________________\n",
      "lstm_2 (LSTM)                (None, 128)               197120    \n",
      "_________________________________________________________________\n",
      "dense_1 (Dense)              (None, 128)               16512     \n",
      "_________________________________________________________________\n",
      "dense_2 (Dense)              (None, 3)                 387       \n",
      "=================================================================\n",
      "Total params: 528,387\n",
      "Trainable params: 528,387\n",
      "Non-trainable params: 0\n",
      "_________________________________________________________________\n"
     ]
    }
   ],
   "source": [
    "model = Sequential()\n",
    "model.add(Reshape((1, maxlen), input_shape=(maxlen,)))\n",
    "model.add(LSTM(256, return_sequences=True))#dropout=0.2))\n",
    "model.add(LSTM(128))\n",
    "model.add(Dense(128, activation='relu'))\n",
    "#model.add(Dropout(rate=0.2))\n",
    "model.add(Dense(3, activation='sigmoid'))\n",
    "model.compile(optimizer='adam', loss='mse')\n",
    "model.summary()"
   ]
  },
  {
   "cell_type": "code",
   "execution_count": 9,
   "metadata": {
    "collapsed": false
   },
   "outputs": [],
   "source": [
    "r_train = [float(x) / 255 for x in training_data[\"red\"]]\n",
    "g_train = [float(x) / 255 for x in training_data[\"green\"]]\n",
    "b_train = [float(x) / 255 for x in training_data[\"blue\"]]"
   ]
  },
  {
   "cell_type": "code",
   "execution_count": 10,
   "metadata": {
    "collapsed": false
   },
   "outputs": [
    {
     "data": {
      "text/plain": [
       "(14157, 3)"
      ]
     },
     "execution_count": 10,
     "metadata": {},
     "output_type": "execute_result"
    }
   ],
   "source": [
    "y_train2 = np.column_stack([r_train, g_train, b_train])\n",
    "y_train2.shape"
   ]
  },
  {
   "cell_type": "code",
   "execution_count": 11,
   "metadata": {
    "collapsed": false
   },
   "outputs": [
    {
     "name": "stdout",
     "output_type": "stream",
     "text": [
      "Train on 12741 samples, validate on 1416 samples\n",
      "Epoch 1/40\n",
      "12741/12741 [==============================] - 12s - loss: 0.0626 - val_loss: 0.0628\n",
      "Epoch 2/40\n",
      "12741/12741 [==============================] - 10s - loss: 0.0591 - val_loss: 0.0620\n",
      "Epoch 3/40\n",
      "12741/12741 [==============================] - 11s - loss: 0.0571 - val_loss: 0.0601\n",
      "Epoch 4/40\n",
      "12741/12741 [==============================] - 10s - loss: 0.0554 - val_loss: 0.0597\n",
      "Epoch 5/40\n",
      "12741/12741 [==============================] - 10s - loss: 0.0539 - val_loss: 0.0585\n",
      "Epoch 6/40\n",
      "12741/12741 [==============================] - 10s - loss: 0.0524 - val_loss: 0.0576\n",
      "Epoch 7/40\n",
      "12741/12741 [==============================] - 11s - loss: 0.0509 - val_loss: 0.0584\n",
      "Epoch 8/40\n",
      "12741/12741 [==============================] - 11s - loss: 0.0493 - val_loss: 0.0569\n",
      "Epoch 9/40\n",
      "12741/12741 [==============================] - 13s - loss: 0.0477 - val_loss: 0.0586\n",
      "Epoch 10/40\n",
      "12741/12741 [==============================] - 11s - loss: 0.0461 - val_loss: 0.0577\n",
      "Epoch 11/40\n",
      "12741/12741 [==============================] - 11s - loss: 0.0447 - val_loss: 0.0595\n",
      "Epoch 12/40\n",
      "12741/12741 [==============================] - 10s - loss: 0.0433 - val_loss: 0.0578\n",
      "Epoch 13/40\n",
      "12741/12741 [==============================] - 10s - loss: 0.0419 - val_loss: 0.0572\n",
      "Epoch 14/40\n",
      "12741/12741 [==============================] - 12s - loss: 0.0404 - val_loss: 0.0567\n",
      "Epoch 15/40\n",
      "12741/12741 [==============================] - 10s - loss: 0.0388 - val_loss: 0.0577\n",
      "Epoch 16/40\n",
      "12741/12741 [==============================] - 12s - loss: 0.0377 - val_loss: 0.0584\n",
      "Epoch 17/40\n",
      "12741/12741 [==============================] - 10s - loss: 0.0363 - val_loss: 0.0588\n",
      "Epoch 18/40\n",
      "12741/12741 [==============================] - 10s - loss: 0.0350 - val_loss: 0.0591\n",
      "Epoch 19/40\n",
      "12741/12741 [==============================] - 10s - loss: 0.0335 - val_loss: 0.0600\n",
      "Epoch 20/40\n",
      "12741/12741 [==============================] - 10s - loss: 0.0324 - val_loss: 0.0596\n",
      "Epoch 21/40\n",
      "12741/12741 [==============================] - 10s - loss: 0.0310 - val_loss: 0.0615\n",
      "Epoch 22/40\n",
      "12741/12741 [==============================] - 10s - loss: 0.0297 - val_loss: 0.0604\n",
      "Epoch 23/40\n",
      "12741/12741 [==============================] - 12s - loss: 0.0285 - val_loss: 0.0613\n",
      "Epoch 24/40\n",
      "12741/12741 [==============================] - 14s - loss: 0.0272 - val_loss: 0.0647\n",
      "Epoch 25/40\n",
      "12741/12741 [==============================] - 12s - loss: 0.0261 - val_loss: 0.0619\n",
      "Epoch 26/40\n",
      "12741/12741 [==============================] - 11s - loss: 0.0252 - val_loss: 0.0620\n",
      "Epoch 27/40\n",
      "12741/12741 [==============================] - 12s - loss: 0.0240 - val_loss: 0.0642\n",
      "Epoch 28/40\n",
      "12741/12741 [==============================] - 12s - loss: 0.0231 - val_loss: 0.0641\n",
      "Epoch 29/40\n",
      "12741/12741 [==============================] - 11s - loss: 0.0222 - val_loss: 0.0641\n",
      "Epoch 30/40\n",
      "12741/12741 [==============================] - 11s - loss: 0.0213 - val_loss: 0.0631\n",
      "Epoch 31/40\n",
      "12741/12741 [==============================] - 10s - loss: 0.0205 - val_loss: 0.0629\n",
      "Epoch 32/40\n",
      "12741/12741 [==============================] - 11s - loss: 0.0198 - val_loss: 0.0648\n",
      "Epoch 33/40\n",
      "12741/12741 [==============================] - 11s - loss: 0.0191 - val_loss: 0.0653\n",
      "Epoch 34/40\n",
      "12741/12741 [==============================] - 11s - loss: 0.0185 - val_loss: 0.0653\n",
      "Epoch 35/40\n",
      "12741/12741 [==============================] - 12s - loss: 0.0177 - val_loss: 0.0665\n",
      "Epoch 36/40\n",
      "12741/12741 [==============================] - 13s - loss: 0.0169 - val_loss: 0.0659\n",
      "Epoch 37/40\n",
      "12741/12741 [==============================] - 13s - loss: 0.0166 - val_loss: 0.0652\n",
      "Epoch 38/40\n",
      "12741/12741 [==============================] - 12s - loss: 0.0160 - val_loss: 0.0670\n",
      "Epoch 39/40\n",
      "12741/12741 [==============================] - 12s - loss: 0.0158 - val_loss: 0.0677\n",
      "Epoch 40/40\n",
      "12741/12741 [==============================] - 11s - loss: 0.0151 - val_loss: 0.0682\n"
     ]
    }
   ],
   "source": [
    "history = model.fit(x_train2, y_train2,\n",
    "                    epochs=40,\n",
    "                    batch_size=32,\n",
    "                    validation_split=0.1)"
   ]
  },
  {
   "cell_type": "code",
   "execution_count": 12,
   "metadata": {
    "collapsed": false
   },
   "outputs": [],
   "source": [
    "#history.history"
   ]
  },
  {
   "cell_type": "code",
   "execution_count": 13,
   "metadata": {
    "collapsed": false
   },
   "outputs": [
    {
     "data": {
      "image/png": "[encoded data removed]",
      "text/plain": [
       "<matplotlib.figure.Figure at 0x117a9f850>"
      ]
     },
     "metadata": {},
     "output_type": "display_data"
    }
   ],
   "source": [
    "import matplotlib.pyplot as plt\n",
    "%matplotlib inline\n",
    "\n",
    "loss = history.history['loss']\n",
    "val_loss = history.history['val_loss']\n",
    "\n",
    "epochs = range(len(loss))\n",
    "\n",
    "plt.plot(epochs, loss, 'bo')\n",
    "plt.plot(epochs, val_loss, 'b')\n",
    "plt.title('Training and validation loss')\n",
    "\n",
    "plt.show()"
   ]
  },
  {
   "cell_type": "code",
   "execution_count": 14,
   "metadata": {
    "collapsed": false
   },
   "outputs": [],
   "source": [
    "# Plots a color image\n",
    "def plot_rgb(rgb):\n",
    "    data = [[rgb]]\n",
    "    plt.figure(figsize=(2,2))\n",
    "    plt.imshow(data, interpolation='nearest')\n",
    "    plt.show()"
   ]
  },
  {
   "cell_type": "code",
   "execution_count": 15,
   "metadata": {
    "collapsed": true
   },
   "outputs": [],
   "source": [
    "def predict(text):\n",
    "    tokenized =  t.texts_to_sequences([text])\n",
    "    preproc = preprocessing.sequence.pad_sequences(tokenized, maxlen=maxlen)\n",
    "    p = model.predict(np.array(preproc))[0]\n",
    "    r, g, b = int(p[0] * 255), int(p[1] * 255), int(p[2] * 255)\n",
    "    print(text + ',', 'rgb:', r,g,b)\n",
    "    plot_rgb(p)"
   ]
  },
  {
   "cell_type": "code",
   "execution_count": 16,
   "metadata": {
    "collapsed": false
   },
   "outputs": [
    {
     "name": "stdout",
     "output_type": "stream",
     "text": [
      "light blue, rgb: 80 123 183\n"
     ]
    },
    {
     "data": {
      "image/png": "[encoded data removed]",
      "text/plain": [
       "<matplotlib.figure.Figure at 0x114ada990>"
      ]
     },
     "metadata": {},
     "output_type": "display_data"
    },
    {
     "name": "stdout",
     "output_type": "stream",
     "text": [
      "blue, rgb: 15 41 137\n"
     ]
    },
    {
     "data": {
      "image/png": "[encoded data removed]",
      "text/plain": [
       "<matplotlib.figure.Figure at 0x113e31750>"
      ]
     },
     "metadata": {},
     "output_type": "display_data"
    },
    {
     "name": "stdout",
     "output_type": "stream",
     "text": [
      "dark blue, rgb: 15 26 83\n"
     ]
    },
    {
     "data": {
      "image/png": "[encoded data removed]",
      "text/plain": [
       "<matplotlib.figure.Figure at 0x117195d10>"
      ]
     },
     "metadata": {},
     "output_type": "display_data"
    },
    {
     "name": "stdout",
     "output_type": "stream",
     "text": [
      "light red, rgb: 223 172 146\n"
     ]
    },
    {
     "data": {
      "image/png": "[encoded data removed]",
      "text/plain": [
       "<matplotlib.figure.Figure at 0x117195b10>"
      ]
     },
     "metadata": {},
     "output_type": "display_data"
    },
    {
     "name": "stdout",
     "output_type": "stream",
     "text": [
      "red, rgb: 227 33 29\n"
     ]
    },
    {
     "data": {
      "image/png": "[encoded data removed]",
      "text/plain": [
       "<matplotlib.figure.Figure at 0x1170c9950>"
      ]
     },
     "metadata": {},
     "output_type": "display_data"
    },
    {
     "name": "stdout",
     "output_type": "stream",
     "text": [
      "dark red, rgb: 195 21 26\n"
     ]
    },
    {
     "data": {
      "image/png": "[encoded data removed]",
      "text/plain": [
       "<matplotlib.figure.Figure at 0x1150b8e50>"
      ]
     },
     "metadata": {},
     "output_type": "display_data"
    },
    {
     "name": "stdout",
     "output_type": "stream",
     "text": [
      "light orange, rgb: 230 181 126\n"
     ]
    },
    {
     "data": {
      "image/png": "[encoded data removed]",
      "text/plain": [
       "<matplotlib.figure.Figure at 0x114ada990>"
      ]
     },
     "metadata": {},
     "output_type": "display_data"
    },
    {
     "name": "stdout",
     "output_type": "stream",
     "text": [
      "orange, rgb: 212 71 52\n"
     ]
    },
    {
     "data": {
      "image/png": "[encoded data removed]",
      "text/plain": [
       "<matplotlib.figure.Figure at 0x117a9f850>"
      ]
     },
     "metadata": {},
     "output_type": "display_data"
    },
    {
     "name": "stdout",
     "output_type": "stream",
     "text": [
      "dark orange, rgb: 210 79 12\n"
     ]
    },
    {
     "data": {
      "image/png": "[encoded data removed]",
      "text/plain": [
       "<matplotlib.figure.Figure at 0x114ada990>"
      ]
     },
     "metadata": {},
     "output_type": "display_data"
    },
    {
     "name": "stdout",
     "output_type": "stream",
     "text": [
      "black, rgb: 17 24 35\n"
     ]
    },
    {
     "data": {
      "image/png": "[encoded data removed]",
      "text/plain": [
       "<matplotlib.figure.Figure at 0x106696dd0>"
      ]
     },
     "metadata": {},
     "output_type": "display_data"
    },
    {
     "name": "stdout",
     "output_type": "stream",
     "text": [
      "white, rgb: 235 240 232\n"
     ]
    },
    {
     "data": {
      "image/png": "[encoded data removed]",
      "text/plain": [
       "<matplotlib.figure.Figure at 0x1179ce6d0>"
      ]
     },
     "metadata": {},
     "output_type": "display_data"
    }
   ],
   "source": [
    "predict(\"light blue\")\n",
    "predict(\"blue\")\n",
    "predict(\"dark blue\")\n",
    "\n",
    "predict(\"light red\")\n",
    "predict(\"red\")\n",
    "predict(\"dark red\")\n",
    "\n",
    "predict(\"light orange\")\n",
    "predict(\"orange\")\n",
    "predict(\"dark orange\")\n",
    "\n",
    "predict(\"black\")\n",
    "\n",
    "predict(\"white\")"
   ]
  },
  {
   "cell_type": "code",
   "execution_count": null,
   "metadata": {
    "collapsed": true
   },
   "outputs": [],
   "source": []
  }
 ],
 "metadata": {
  "kernelspec": {
   "display_name": "Python 2",
   "language": "python",
   "name": "python2"
  },
  "language_info": {
   "codemirror_mode": {
    "name": "ipython",
    "version": 2
   },
   "file_extension": ".py",
   "mimetype": "text/x-python",
   "name": "python",
   "nbconvert_exporter": "python",
   "pygments_lexer": "ipython2",
   "version": "2.7.10"
  }
 },
 "nbformat": 4,
 "nbformat_minor": 2
}
